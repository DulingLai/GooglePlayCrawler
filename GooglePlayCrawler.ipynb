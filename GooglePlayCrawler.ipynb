{
 "cells": [
  {
   "cell_type": "code",
   "execution_count": 73,
   "metadata": {},
   "outputs": [],
   "source": [
    "import os\n",
    "import csv\n",
    "import time\n",
    "import json\n",
    "import psutil\n",
    "import requests\n",
    "import argparse\n",
    "import subprocess\n",
    "import gpcconstants"
   ]
  },
  {
   "cell_type": "code",
   "execution_count": 3,
   "metadata": {
    "collapsed": true
   },
   "outputs": [],
   "source": [
    "def download_single_apk(apk_id, apk_folder, index, total):\n",
    "    # remove existing APK\n",
    "    if os.path.exists(apk_folder + '/' + apk_id + '.apk'): os.remove(apk_folder + '/' + apk_id + '.apk')\n",
    "\n",
    "    # download APK\n",
    "    print(\"(\" + index + \"/\" + total + \")\" + \"Downloading: \" + apk_id)\n",
    "    try:\n",
    "        subprocess.check_output(['gplaycli','-d',apk_id,'-f',apk_folder])\n",
    "    except subprocess.CalledProcessError as e:\n",
    "        print(\"**** Failed to download due to error: \", e)\n",
    "        return False\n",
    "    \n",
    "    if not os.path.exists(apk_folder + '/' + apk_id + \".apk\"):\n",
    "        print(\"**** Error occurred while downloading...\")\n",
    "        return False\n",
    "    else: return True"
   ]
  },
  {
   "cell_type": "code",
   "execution_count": 30,
   "metadata": {
    "collapsed": true
   },
   "outputs": [],
   "source": [
    "def start_api_server(gscraper_dir):\n",
    "    try:\n",
    "        p = subprocess.Popen('npm start', cwd=gscraper_dir,shell=True,preexec_fn=os.setsid)\n",
    "    except subprocess.CalledProcessError as e:\n",
    "        print(\"Failed to download due to error: \", e)"
   ]
  },
  {
   "cell_type": "code",
   "execution_count": 28,
   "metadata": {},
   "outputs": [],
   "source": [
    "def stop_api_server():\n",
    "    for proc in psutil.process_iter():\n",
    "        # check whether the process name matches\n",
    "        if proc.name() == 'node':\n",
    "            proc.kill()"
   ]
  },
  {
   "cell_type": "code",
   "execution_count": 66,
   "metadata": {},
   "outputs": [],
   "source": [
    "def get_app_by_collection_category(collection, category, num, start):\n",
    "    # get the list of top apps\n",
    "    if category=='NONE':\n",
    "        request_params = {'collection':collection, 'num':num, 'start':start, 'country':'ca'}\n",
    "    else:\n",
    "        request_params = {'collection':collection, 'category':category, 'num':num, 'start':start,'country':'ca'}    \n",
    "    r = requests.get('http://localhost:3000/api/apps/', params=request_params)\n",
    "    \n",
    "    # if we successfully get the response\n",
    "    if(r.ok):\n",
    "        app_list = r.json().get('results')\n",
    "        app_id_list = [app.get('appId') for app in app_list]\n",
    "        return app_id_list\n",
    "    else:\n",
    "        # If response code is not ok (200), print the resulting http error code with description\n",
    "        r.raise_for_status()"
   ]
  },
  {
   "cell_type": "code",
   "execution_count": 78,
   "metadata": {
    "collapsed": true
   },
   "outputs": [],
   "source": [
    "def download_batch_app(apk_folder, collection, category, num, start):\n",
    "    # start the server as we need to query information of each app\n",
    "    start_api_server(gpcconstants.GSCRAPPER_DIR)\n",
    "    time.sleep(1)\n",
    "    \n",
    "    app_list = get_app_by_collection_category(collection, category, num, start)\n",
    "    \n",
    "    # variables to store app information which will be written to a csv file after we are done with one category\n",
    "    app_info = {}\n",
    "    \n",
    "    # loop variables\n",
    "    num_apps = len(app_list)\n",
    "    index = 1\n",
    "    \n",
    "    # for each app in the app list: download the app and store the app information\n",
    "    for app in app_list:\n",
    "        if not download_single_apk(app, apk_folder, num_apps, index):\n",
    "            app_info[app]=[\"Download Error\"]\n",
    "        else:\n",
    "            complete_app_info=requests.get('http://localhost:3000/api/apps/'+app).json()\n",
    "            app_info[app] = [complete_app_info.get('title'),complete_app_info.get('genreId'),complete_app_info.get('size'),complete_app_info.get('version'),complete_app_info.get('installs'),complete_app_info.get('scoreText'),complete_app_info.get('ratings'),complete_app_info.get('androidVersionText')]\n",
    "        index = index + 1\n",
    "    \n",
    "    # stop the server\n",
    "    stop_api_server()\n",
    "    \n",
    "    # write the collected app information to a csv file\n",
    "    with open(apk_folder+'/app_info.csv','w+') as reportFile:\n",
    "        wr = csv.writer(reportFile, dialect='excel')\n",
    "        for app in app_info.keys():\n",
    "            wr.writerow([app] + app_info.get(app))"
   ]
  },
  {
   "cell_type": "code",
   "execution_count": 76,
   "metadata": {},
   "outputs": [
    {
     "name": "stderr",
     "output_type": "stream",
     "text": [
      "usage: ipykernel_launcher.py [-h] -d DIR [-a [ALL]] [-c [COLLECTION]]\n",
      "                             [-g [CATEGORY]] [-n [NUMBER]] [-s [START]]\n",
      "ipykernel_launcher.py: error: the following arguments are required: -d/--dir\n"
     ]
    },
    {
     "ename": "SystemExit",
     "evalue": "2",
     "output_type": "error",
     "traceback": [
      "An exception has occurred, use %tb to see the full traceback.\n",
      "\u001b[0;31mSystemExit\u001b[0m\u001b[0;31m:\u001b[0m 2\n"
     ]
    },
    {
     "name": "stderr",
     "output_type": "stream",
     "text": [
      "/Users/dulinglai/Applications/anaconda3/lib/python3.6/site-packages/IPython/core/interactiveshell.py:2870: UserWarning: To exit: use 'exit', 'quit', or Ctrl-D.\n",
      "  warn(\"To exit: use 'exit', 'quit', or Ctrl-D.\", stacklevel=1)\n"
     ]
    }
   ],
   "source": [
    "if __name__ == '__main__':\n",
    "    # construct the argument parser\n",
    "    ap = argparse.ArgumentParser(description='Download batch apks from Google Play Store.')\n",
    "    ap.add_argument('-d','--dir', required=True, help='The folder to store the downloaded APKs (required)')\n",
    "    ap.add_argument('-a','--all', nargs='?', const=True, default=False,type=bool, help='Set this option to True will download all categories (default: False)')\n",
    "    ap.add_argument('-c','--collection', nargs='?', default='TOP_FREE', help='The collection to download from {TOP_FREE,NEW_FREE,GROSSING,TRENDING} (default: TOP_FREE)')\n",
    "    ap.add_argument('-g','--category', nargs='?', default='NONE', help='The category to download (default: NONE; Available options can be found in documentation).')\n",
    "    ap.add_argument('-n','--number', nargs='?', default='120', help='The number of apps to download (default: 120; Max: 120).')\n",
    "    ap.add_argument('-s','--start', nargs='?', default='0', help='The starting index of the retrieved list (default: 0; Max: 500)')\n",
    "    \n",
    "    # parse the arguments\n",
    "    args = vars(ap.parse_args())\n",
    "    apk_folder = args['dir']\n",
    "    download_all = args['all']\n",
    "    collection = gpcconstants.COLLECTION.get(args['collection'])\n",
    "    category = gpcconstants.CATEGORY.get(args['category'])\n",
    "    number = args['number']\n",
    "    start = args['start']\n",
    "    \n",
    "    # get the app list\n",
    "    if download_all:\n",
    "        print(\"Downloading all possible categories\")\n",
    "        for category in gpcconstants.CATEGORY:\n",
    "            apk_folder_new = os.path.join(apk_folder, category)\n",
    "            if not os.path.exists(apk_folder_new):\n",
    "                os.makedirs(apk_folder_new)\n",
    "            download_batch_app(apk_folder_new, collection, category, number, start)\n",
    "    else:\n",
    "        download_batch_app(apk_folder, collection, category, number, start)"
   ]
  },
  {
   "cell_type": "code",
   "execution_count": 79,
   "metadata": {},
   "outputs": [],
   "source": [
    "stop_api_server()"
   ]
  },
  {
   "cell_type": "code",
   "execution_count": 23,
   "metadata": {},
   "outputs": [
    {
     "name": "stdout",
     "output_type": "stream",
     "text": [
      "Downloading: io.voodoo\n",
      "An unknown error occurred while downloading...\n"
     ]
    },
    {
     "data": {
      "text/plain": [
       "False"
      ]
     },
     "execution_count": 23,
     "metadata": {},
     "output_type": "execute_result"
    }
   ],
   "source": [
    "apk_folder = '/Volumes/WD_drive/TopFreeApps_201807'\n",
    "app_id = 'io.voodoo.holeio'\n",
    "download_single_apk(app_id,apk_folder)"
   ]
  },
  {
   "cell_type": "code",
   "execution_count": 8,
   "metadata": {},
   "outputs": [],
   "source": [
    "GSCRAPPER_DIR = os.path.abspath('./google-play-api-master')\n",
    "pid = start_api_server(GSCRAPPER_DIR)"
   ]
  },
  {
   "cell_type": "code",
   "execution_count": 62,
   "metadata": {},
   "outputs": [
    {
     "name": "stdout",
     "output_type": "stream",
     "text": [
      "['io.voodoo.holeio', 'air.com.nbcuni.com.telemundo.envivo', 'com.riseup.game', 'com.h8games.helixjump', 'com.playgendary.kickthebuddy', 'com.bigframes.color_road', 'com.facebook.orca', 'com.google.android.apps.youtube.music', 'com.dvloper.granny', 'com.snapchat.android', 'com.instagram.android', 'com.pandora.android', 'com.dimico.painthit', 'com.contextlogic.wish', 'com.rubygames.slingdrift', 'com.netflix.mediaclient', 'com.supertapx.lovedots', 'com.whatsapp', 'com.zhiliaoapp.musically', 'com.facebook.katana', 'com.roblox.client', 'com.playgendary.tanks', 'com.spotify.music', 'com.CraftingExplore.Big', 'com.supertapx.drawin', 'com.foxsports.android', 'com.bitstrips.imoji', 'com.kiloo.subwaysurf', 'com.word.puzzle.game.connect', 'com.google.android.projection.gearhead', 'com.amazon.mShop.android.shopping', 'com.google.android.play.games', 'com.ubercab', 'com.zplay.willhero', 'io.voodoo.cube', 'net.peakgames.toonblast', 'air.com.hypah.io.slither', 'com.crazylabs.lady.bug', 'com.abtnprojects.ambatana', 'com.tencent.ig', 'com.particlenews.newsbreak', 'com.facebook.mlite', 'com.miniclip.bowmasters', 'com.hulu.plus', 'com.google.tango.measure', 'io.voodoo.flyingarrow', 'com.offerup', 'com.itchmedia.ta3', 'com.enflick.android.TextNow', 'com.squareup.cash', 'com.amazon.avod.thirdpartyclient', 'com.crazylabs.sausage.run', 'com.grand.crime.auto.gangester.city', 'com.tubitv', 'com.europosit.pixelcoloring', 'com.ludia.jw2', 'com.youmusic.magictiles', 'com.bentostudio.ballsvsblocks', 'com.fifa.fifaapp.android', 'com.tastypill.twistyarrow', 'me.lyft.android', 'com.imangi.templerun2', 'com.wb.goog.westworld', 'com.playgendary.partymasters', 'com.waze', 'com.wordcross.plus.puzzle.en', 'com.malumapplications.houseflippingbuilding', 'com.cheerfulinc.flipagram', 'com.motionvolt.flipbounce', 'com.soundcloud.android', 'com.episodeinteractive.android.catalog', 'com.creative.sandbox.number.drawning.coloring', 'com.fungames.sniper3d', 'com.perblue.disneyheroes', 'com.color.call.flash.colorphone', 'net.zedge.android', 'com.miniclip.eightballpool', 'com.paypal.android.p2pmobile', 'com.fgol.HungrySharkEvolution', 'com.king.candycrushsaga', 'com.jb.go.musicplayer.mp3player', 'tv.twitch.android.app', 'com.nianticlabs.pokemongo', 'com.ubercab.eats', 'com.nexon.da3.global', 'com.fortune.sim.game.cash', 'com.ludia.jurassicworld', 'com.pinterest', 'co.happybits.marcopolo', 'com.azurgames.BattleGroundRoyale', 'hotspotshield.android.vpn', 'com.ice.bc.helixJump', 'com.facebook.lite', 'io.voodoo.stackjump', 'com.guardian.security.pri', 'com.aim.racing', 'fitness.abs.butt.gymworkout.loseweight.exercises', 'com.cmplay.tiles2', 'messenger.chat.social.messenger', 'com.dhgate.buyermob', 'com.walmart.android', 'com.twitter.android', 'com.playrix.homescapes', 'com.namcobandaigames.pacmantournaments', 'com.venmo', 'com.luckyday.app', 'com.outfit7.mytalkingtomfree', 'com.ea.game.pvzfree_row', 'com.sega.sonicdash', 'me.pou.app', 'com.bdj.vortexDroid', 'com.microsoft.office.outlook', 'com.playgendary.kniferush', 'com.ss.android.article.master', 'com.gameloft.android.ANMP.GloftDMHM', 'com.tinder', 'com.peoplefun.wordcross', 'com.clearchannel.iheartradio.controller', 'com.ksmobile.launcher', 'com.discord']\n"
     ]
    }
   ],
   "source": [
    "get_app_by_collection_category()"
   ]
  },
  {
   "cell_type": "code",
   "execution_count": 77,
   "metadata": {},
   "outputs": [
    {
     "name": "stdout",
     "output_type": "stream",
     "text": [
      "['Hole.io', 'GAME_ARCADE', '73M', '1.1.2', '1,000,000+', '4.1', 14556, '4.1 and up']\n"
     ]
    }
   ],
   "source": [
    "app = 'io.voodoo.holeio'\n",
    "apk_folder = '/Volumes/WD_drive/TopFreeApps_201807'\n",
    "\n",
    "app_info_list = {}\n",
    "complete_app_info=requests.get('http://localhost:3000/api/apps/'+app).json()\n",
    "app_info_list[app] = [complete_app_info.get('title'),complete_app_info.get('genreId'),complete_app_info.get('size'),complete_app_info.get('version'),complete_app_info.get('installs'),complete_app_info.get('scoreText'),complete_app_info.get('ratings'),complete_app_info.get('androidVersionText')]\n",
    "print(app_info_list[app])\n",
    "output_file = apk_folder+'/app_info.csv'\n",
    "with open(output_file,'w+') as reportFile:\n",
    "    wr = csv.writer(reportFile, dialect='excel')\n",
    "    for app in app_info_list.keys():\n",
    "        wr.writerow([app] + app_info_list.get(app))"
   ]
  },
  {
   "cell_type": "code",
   "execution_count": null,
   "metadata": {
    "collapsed": true
   },
   "outputs": [],
   "source": []
  }
 ],
 "metadata": {
  "kernelspec": {
   "display_name": "Python 3",
   "language": "python",
   "name": "python3"
  },
  "language_info": {
   "codemirror_mode": {
    "name": "ipython",
    "version": 3
   },
   "file_extension": ".py",
   "mimetype": "text/x-python",
   "name": "python",
   "nbconvert_exporter": "python",
   "pygments_lexer": "ipython3",
   "version": "3.6.3"
  }
 },
 "nbformat": 4,
 "nbformat_minor": 2
}
